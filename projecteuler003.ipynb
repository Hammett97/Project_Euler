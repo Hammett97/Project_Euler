{
 "cells": [
  {
   "cell_type": "markdown",
   "metadata": {},
   "source": [
    "### Problem 3: Largest Prime Factor"
   ]
  },
  {
   "cell_type": "code",
   "execution_count": 31,
   "metadata": {},
   "outputs": [
    {
     "name": "stdout",
     "output_type": "stream",
     "text": [
      "6857\n"
     ]
    }
   ],
   "source": [
    "n = 600851475143\n",
    "\n",
    "def factors(n):\n",
    "    factors = []\n",
    "    for i in range(2, int(n**0.5)+1):\n",
    "        if (n % i == 0):\n",
    "            factors.append(i)\n",
    "    return factors\n",
    "\n",
    "def is_prime(n):\n",
    "    prime = True\n",
    "    for i in range(2, int(n/2)+1):\n",
    "        if (n % i == 0):\n",
    "            return False\n",
    "            break\n",
    "    return prime\n",
    "\n",
    "factors_n = factors(n)\n",
    "\n",
    "answer = 0\n",
    "for i in factors_n:\n",
    "    if(is_prime(i)):\n",
    "        answer = i\n",
    "\n",
    "print(answer)"
   ]
  }
 ],
 "metadata": {
  "kernelspec": {
   "display_name": "base",
   "language": "python",
   "name": "python3"
  },
  "language_info": {
   "codemirror_mode": {
    "name": "ipython",
    "version": 3
   },
   "file_extension": ".py",
   "mimetype": "text/x-python",
   "name": "python",
   "nbconvert_exporter": "python",
   "pygments_lexer": "ipython3",
   "version": "3.11.5"
  }
 },
 "nbformat": 4,
 "nbformat_minor": 2
}

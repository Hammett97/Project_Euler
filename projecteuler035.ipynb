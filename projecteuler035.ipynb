{
 "cells": [
  {
   "cell_type": "markdown",
   "metadata": {},
   "source": [
    "### Problem 35: Circular Primes"
   ]
  },
  {
   "cell_type": "code",
   "execution_count": 58,
   "metadata": {},
   "outputs": [],
   "source": [
    "def is_prime(n):\n",
    "    is_prime = True\n",
    "    for i in range(2, int(n**0.5)+1):\n",
    "        if n%i == 0:\n",
    "            is_prime = False\n",
    "            break\n",
    "    return is_prime"
   ]
  },
  {
   "cell_type": "code",
   "execution_count": 59,
   "metadata": {},
   "outputs": [],
   "source": [
    "def rotations(n):\n",
    "    rotation = []\n",
    "    for i in range(len(str(n))):\n",
    "        rotation.append(int(str(n)[i:]+str(n)[:i]))\n",
    "\n",
    "    return rotation"
   ]
  },
  {
   "cell_type": "code",
   "execution_count": 60,
   "metadata": {},
   "outputs": [],
   "source": [
    "def rotationes_are_prime(n):\n",
    "    rotationes_are_prime = True\n",
    "    for i in rotations(n):\n",
    "        if is_prime(i) == False:\n",
    "            rotationes_are_prime = False\n",
    "            break\n",
    "    return rotationes_are_prime\n"
   ]
  },
  {
   "cell_type": "code",
   "execution_count": 57,
   "metadata": {},
   "outputs": [
    {
     "data": {
      "text/plain": [
       "55"
      ]
     },
     "execution_count": 57,
     "metadata": {},
     "output_type": "execute_result"
    }
   ],
   "source": [
    "n_circular_primes = 0\n",
    "for n in range(2,int(1e6)):\n",
    "    if rotationes_are_prime(n):\n",
    "        n_circular_primes = n_circular_primes + 1\n",
    "\n",
    "n_circular_primes"
   ]
  }
 ],
 "metadata": {
  "kernelspec": {
   "display_name": "base",
   "language": "python",
   "name": "python3"
  },
  "language_info": {
   "codemirror_mode": {
    "name": "ipython",
    "version": 3
   },
   "file_extension": ".py",
   "mimetype": "text/x-python",
   "name": "python",
   "nbconvert_exporter": "python",
   "pygments_lexer": "ipython3",
   "version": "3.11.5"
  }
 },
 "nbformat": 4,
 "nbformat_minor": 2
}

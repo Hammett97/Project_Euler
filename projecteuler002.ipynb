{
 "cells": [
  {
   "cell_type": "markdown",
   "metadata": {},
   "source": [
    "### Problem 2: Even Fibonacci Numbers"
   ]
  },
  {
   "cell_type": "code",
   "execution_count": 18,
   "metadata": {},
   "outputs": [
    {
     "data": {
      "text/plain": [
       "4613732"
      ]
     },
     "execution_count": 18,
     "metadata": {},
     "output_type": "execute_result"
    }
   ],
   "source": [
    "def fibonachi_even_sum(n):\n",
    "    n1 = 1\n",
    "    n2 = 2\n",
    "    n3 = 0\n",
    "    even_sum = 2\n",
    "    \n",
    "    \n",
    "    while(n3 < n):\n",
    "        n3 = n1+n2\n",
    "        n1 = n2\n",
    "        n2 = n3\n",
    "        if n3%2==0:\n",
    "            even_sum = even_sum+n3\n",
    "    \n",
    "    return(even_sum)\n",
    "\n",
    "\n",
    "fibonachi_even_sum(4000000)"
   ]
  }
 ],
 "metadata": {
  "kernelspec": {
   "display_name": "base",
   "language": "python",
   "name": "python3"
  },
  "language_info": {
   "codemirror_mode": {
    "name": "ipython",
    "version": 3
   },
   "file_extension": ".py",
   "mimetype": "text/x-python",
   "name": "python",
   "nbconvert_exporter": "python",
   "pygments_lexer": "ipython3",
   "version": "3.11.5"
  }
 },
 "nbformat": 4,
 "nbformat_minor": 2
}

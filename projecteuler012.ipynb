{
 "cells": [
  {
   "cell_type": "markdown",
   "metadata": {},
   "source": [
    "### Problem 12: Highly Divisible Triangular Number\n"
   ]
  },
  {
   "cell_type": "code",
   "execution_count": 34,
   "metadata": {},
   "outputs": [],
   "source": [
    "def triangular_number(n):\n",
    "    sum = 0\n",
    "    for i in range(1,n+1):\n",
    "        sum = sum + i\n",
    "    return sum\n",
    "\n",
    "def divisors(n):\n",
    "    divisors = [1]\n",
    "    for i in range(2, int(n**0.5)+1):\n",
    "        if (n%i == 0):\n",
    "            divisors.append(i)\n",
    "            divisors.append(n//i)\n",
    "    divisors.append(n)\n",
    "    return(sorted(divisors))\n"
   ]
  },
  {
   "cell_type": "code",
   "execution_count": 35,
   "metadata": {},
   "outputs": [
    {
     "name": "stdout",
     "output_type": "stream",
     "text": [
      "76576500\n"
     ]
    }
   ],
   "source": [
    "i = 1\n",
    "while True:\n",
    "    if(len(divisors(triangular_number(i))) > 500):\n",
    "        print(triangular_number(i))\n",
    "        break\n",
    "    i = i + 1"
   ]
  }
 ],
 "metadata": {
  "kernelspec": {
   "display_name": "base",
   "language": "python",
   "name": "python3"
  },
  "language_info": {
   "codemirror_mode": {
    "name": "ipython",
    "version": 3
   },
   "file_extension": ".py",
   "mimetype": "text/x-python",
   "name": "python",
   "nbconvert_exporter": "python",
   "pygments_lexer": "ipython3",
   "version": "3.11.5"
  }
 },
 "nbformat": 4,
 "nbformat_minor": 2
}

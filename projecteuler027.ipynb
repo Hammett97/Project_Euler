{
 "cells": [
  {
   "cell_type": "markdown",
   "metadata": {},
   "source": [
    "### Problem 27: Quadratic Primes"
   ]
  },
  {
   "cell_type": "code",
   "execution_count": 69,
   "metadata": {},
   "outputs": [],
   "source": [
    "def func(n , a, b):\n",
    "    return (n**2 + a*n + b)\n",
    "\n",
    "\n",
    "def is_prime(n):\n",
    "    number = abs(n)\n",
    "    number_is_prime = True\n",
    "    for i in range(2, int(number/2)+1):\n",
    "        if (number%i == 0):\n",
    "            number_is_prime = False\n",
    "            break\n",
    "    return number_is_prime\n",
    "\n",
    "\n",
    "def prime_sequence(a,b):\n",
    "    n = 0\n",
    "    sequence_is_prime = True\n",
    "    while sequence_is_prime:\n",
    "        if not(is_prime(func(n , a=a, b=b))):\n",
    "            sequence_is_prime = False\n",
    "            break\n",
    "        n = n+1\n",
    "    return n"
   ]
  },
  {
   "cell_type": "code",
   "execution_count": 70,
   "metadata": {},
   "outputs": [
    {
     "data": {
      "text/plain": [
       "-59231"
      ]
     },
     "execution_count": 70,
     "metadata": {},
     "output_type": "execute_result"
    }
   ],
   "source": [
    "ab = 0\n",
    "prime_sequence_lenght = 0\n",
    "for a in range(-999,1000):\n",
    "    for b in range(-1000,1001):\n",
    "        if prime_sequence(a,b) > prime_sequence_lenght:\n",
    "            prime_sequence_lenght = prime_sequence(a,b)\n",
    "            ab = a * b\n",
    "\n",
    "ab"
   ]
  }
 ],
 "metadata": {
  "kernelspec": {
   "display_name": "chemprop",
   "language": "python",
   "name": "python3"
  },
  "language_info": {
   "codemirror_mode": {
    "name": "ipython",
    "version": 3
   },
   "file_extension": ".py",
   "mimetype": "text/x-python",
   "name": "python",
   "nbconvert_exporter": "python",
   "pygments_lexer": "ipython3",
   "version": "3.8.18"
  }
 },
 "nbformat": 4,
 "nbformat_minor": 2
}

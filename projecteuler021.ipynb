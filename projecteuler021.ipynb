{
 "cells": [
  {
   "cell_type": "markdown",
   "metadata": {},
   "source": [
    "### Problem 21: Amicable Numbers\n"
   ]
  },
  {
   "cell_type": "code",
   "execution_count": 44,
   "metadata": {},
   "outputs": [
    {
     "data": {
      "text/plain": [
       "31626"
      ]
     },
     "execution_count": 44,
     "metadata": {},
     "output_type": "execute_result"
    }
   ],
   "source": [
    "def sum_of_divisors(n):\n",
    "    sum = 0\n",
    "    for i in range(1, int((n+1)/2)+1):\n",
    "        if (n%i == 0):\n",
    "            sum = sum + i\n",
    "    return sum\n",
    "\n",
    "sum = 0\n",
    "for i in range(1,10000):\n",
    "    if (i == sum_of_divisors(sum_of_divisors(i)) and i != sum_of_divisors(i)):\n",
    "        sum = sum + i\n",
    "\n",
    "sum"
   ]
  }
 ],
 "metadata": {
  "kernelspec": {
   "display_name": "chemprop",
   "language": "python",
   "name": "python3"
  },
  "language_info": {
   "codemirror_mode": {
    "name": "ipython",
    "version": 3
   },
   "file_extension": ".py",
   "mimetype": "text/x-python",
   "name": "python",
   "nbconvert_exporter": "python",
   "pygments_lexer": "ipython3",
   "version": "3.8.18"
  }
 },
 "nbformat": 4,
 "nbformat_minor": 2
}

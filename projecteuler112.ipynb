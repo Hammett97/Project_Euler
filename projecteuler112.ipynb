{
 "cells": [
  {
   "cell_type": "markdown",
   "metadata": {},
   "source": [
    "### Problem 112: Bouncy Numbers"
   ]
  },
  {
   "cell_type": "code",
   "execution_count": 6,
   "metadata": {},
   "outputs": [],
   "source": [
    "def is_increasing(n):\n",
    "    is_increasing = True\n",
    "    for i in range(1,len(str(n))):\n",
    "        if str(n)[i] < str(n)[i-1]:\n",
    "            is_increasing = False\n",
    "            break\n",
    "    return is_increasing"
   ]
  },
  {
   "cell_type": "code",
   "execution_count": 14,
   "metadata": {},
   "outputs": [],
   "source": [
    "def is_decreasing(n):\n",
    "    is_decreasing = True\n",
    "    for i in range(1,len(str(n))):\n",
    "        if str(n)[i] > str(n)[i-1]:\n",
    "            is_decreasing = False\n",
    "            break\n",
    "    return is_decreasing"
   ]
  },
  {
   "cell_type": "code",
   "execution_count": 28,
   "metadata": {},
   "outputs": [],
   "source": [
    "def is_bouncy(n):\n",
    "    is_bouncy = False\n",
    "    if (is_decreasing(n) or is_increasing(n)) == False:\n",
    "        is_bouncy = True\n",
    "\n",
    "    return is_bouncy"
   ]
  },
  {
   "cell_type": "code",
   "execution_count": 53,
   "metadata": {},
   "outputs": [
    {
     "name": "stdout",
     "output_type": "stream",
     "text": [
      "1587000\n"
     ]
    }
   ],
   "source": [
    "i = 1\n",
    "bouncy_numbers = 0\n",
    "not_bouncy_numbers = 0\n",
    "while True:\n",
    "\n",
    "    if is_bouncy(i) == True:\n",
    "        bouncy_numbers = bouncy_numbers + 1\n",
    "    if is_bouncy(i) == False:\n",
    "        not_bouncy_numbers = not_bouncy_numbers + 1\n",
    "\n",
    "    if (bouncy_numbers / (bouncy_numbers+not_bouncy_numbers)) >= 0.99:\n",
    "        print(i)\n",
    "        break\n",
    "\n",
    "    i = i+1"
   ]
  }
 ],
 "metadata": {
  "kernelspec": {
   "display_name": "chemprop",
   "language": "python",
   "name": "python3"
  },
  "language_info": {
   "codemirror_mode": {
    "name": "ipython",
    "version": 3
   },
   "file_extension": ".py",
   "mimetype": "text/x-python",
   "name": "python",
   "nbconvert_exporter": "python",
   "pygments_lexer": "ipython3",
   "version": "3.8.18"
  }
 },
 "nbformat": 4,
 "nbformat_minor": 2
}

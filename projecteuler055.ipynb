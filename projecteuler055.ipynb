{
 "cells": [
  {
   "cell_type": "markdown",
   "metadata": {},
   "source": [
    "### Problem 55: Lychrel Numbers\n"
   ]
  },
  {
   "cell_type": "code",
   "execution_count": 8,
   "metadata": {},
   "outputs": [],
   "source": [
    "def is_palindrome(n):\n",
    "    is_palindrome = True\n",
    "    for i in range(int(len(str(n))/2)):\n",
    "        if str(n)[i] != str(n)[-1-i]:\n",
    "            is_palindrome = False\n",
    "            break\n",
    "\n",
    "    return is_palindrome"
   ]
  },
  {
   "cell_type": "code",
   "execution_count": 32,
   "metadata": {},
   "outputs": [],
   "source": [
    "def reverse(n):\n",
    "    reverse = ''\n",
    "    for i in str(n):\n",
    "        reverse = i + reverse\n",
    "    return int(reverse)\n"
   ]
  },
  {
   "cell_type": "code",
   "execution_count": 37,
   "metadata": {},
   "outputs": [],
   "source": [
    "def reverse_and_sum(n):\n",
    "    return n + reverse(n)"
   ]
  },
  {
   "cell_type": "code",
   "execution_count": 46,
   "metadata": {},
   "outputs": [],
   "source": [
    "def is_Lychrel(n):\n",
    "    is_Lychrel = True\n",
    "    for i in range(50):\n",
    "        if is_palindrome(reverse_and_sum(n)) == True:\n",
    "            is_Lychrel = False\n",
    "            break\n",
    "        else:\n",
    "            n = reverse_and_sum(n)\n",
    "\n",
    "    return is_Lychrel\n"
   ]
  },
  {
   "cell_type": "code",
   "execution_count": 52,
   "metadata": {},
   "outputs": [
    {
     "data": {
      "text/plain": [
       "249"
      ]
     },
     "execution_count": 52,
     "metadata": {},
     "output_type": "execute_result"
    }
   ],
   "source": [
    "result = 0\n",
    "\n",
    "for i in range(1,10000):\n",
    "    if is_Lychrel(i):\n",
    "        result = result + 1\n",
    "\n",
    "result"
   ]
  }
 ],
 "metadata": {
  "kernelspec": {
   "display_name": "chemprop",
   "language": "python",
   "name": "python3"
  },
  "language_info": {
   "codemirror_mode": {
    "name": "ipython",
    "version": 3
   },
   "file_extension": ".py",
   "mimetype": "text/x-python",
   "name": "python",
   "nbconvert_exporter": "python",
   "pygments_lexer": "ipython3",
   "version": "3.8.18"
  }
 },
 "nbformat": 4,
 "nbformat_minor": 2
}

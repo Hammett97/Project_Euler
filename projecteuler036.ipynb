{
 "cells": [
  {
   "cell_type": "markdown",
   "metadata": {},
   "source": [
    "### Problem 36: Double-base Palindromes\n"
   ]
  },
  {
   "cell_type": "code",
   "execution_count": 40,
   "metadata": {},
   "outputs": [
    {
     "data": {
      "text/plain": [
       "872187"
      ]
     },
     "execution_count": 40,
     "metadata": {},
     "output_type": "execute_result"
    }
   ],
   "source": [
    "def is_palindrom(number_string):\n",
    "    number_is_palindrom = True\n",
    "    for i in range(int(len(number_string)/2)):\n",
    "        if number_string[i] != number_string[-1-i]:\n",
    "            number_is_palindrom = False\n",
    "            break\n",
    "    return number_is_palindrom\n",
    "\n",
    "sum_double_base_palindromes = 0\n",
    "\n",
    "for i in range(1,1000000):\n",
    "    if (is_palindrom(str(i)) and is_palindrom(bin(i)[2:])):\n",
    "        sum_double_base_palindromes = sum_double_base_palindromes + i\n",
    "\n",
    "sum_double_base_palindromes"
   ]
  }
 ],
 "metadata": {
  "kernelspec": {
   "display_name": "chemprop",
   "language": "python",
   "name": "python3"
  },
  "language_info": {
   "codemirror_mode": {
    "name": "ipython",
    "version": 3
   },
   "file_extension": ".py",
   "mimetype": "text/x-python",
   "name": "python",
   "nbconvert_exporter": "python",
   "pygments_lexer": "ipython3",
   "version": "3.8.18"
  }
 },
 "nbformat": 4,
 "nbformat_minor": 2
}

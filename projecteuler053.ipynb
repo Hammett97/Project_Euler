{
 "cells": [
  {
   "cell_type": "markdown",
   "metadata": {},
   "source": [
    "### Problem 53: Combinatoric Selections\n"
   ]
  },
  {
   "cell_type": "code",
   "execution_count": 13,
   "metadata": {},
   "outputs": [
    {
     "data": {
      "text/plain": [
       "4075"
      ]
     },
     "execution_count": 13,
     "metadata": {},
     "output_type": "execute_result"
    }
   ],
   "source": [
    "def factorial(n):\n",
    "    factorial = 1\n",
    "    for i in range(2,n+1):\n",
    "        factorial = factorial*i\n",
    "    return factorial\n",
    "\n",
    "\n",
    "def choose(n,r):\n",
    "    return int((factorial(n) / (factorial(r) * factorial(n-r))))\n",
    "\n",
    "\n",
    "result = 0\n",
    "\n",
    "for n in range (1,101):\n",
    "    for r in range(n):\n",
    "        if choose(n,r) > 1e6:\n",
    "            result = result + 1\n",
    "\n",
    "result\n"
   ]
  }
 ],
 "metadata": {
  "kernelspec": {
   "display_name": "chemprop",
   "language": "python",
   "name": "python3"
  },
  "language_info": {
   "codemirror_mode": {
    "name": "ipython",
    "version": 3
   },
   "file_extension": ".py",
   "mimetype": "text/x-python",
   "name": "python",
   "nbconvert_exporter": "python",
   "pygments_lexer": "ipython3",
   "version": "3.8.18"
  }
 },
 "nbformat": 4,
 "nbformat_minor": 2
}

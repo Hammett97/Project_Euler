{
 "cells": [
  {
   "cell_type": "markdown",
   "metadata": {},
   "source": [
    "### Problem 4: Largest Palindrome Product"
   ]
  },
  {
   "cell_type": "code",
   "execution_count": 17,
   "metadata": {},
   "outputs": [
    {
     "name": "stdout",
     "output_type": "stream",
     "text": [
      "906609\n"
     ]
    }
   ],
   "source": [
    "def is_palindrome(n):\n",
    "    str_n = str(n)\n",
    "    palindromic = True\n",
    "\n",
    "    for i in range(int(len(str_n)/2)):\n",
    "        if(str_n[i] != str_n[-1-i]):\n",
    "            palindromic = False\n",
    "            break\n",
    "\n",
    "    return palindromic\n",
    "\n",
    "\n",
    "answer = []\n",
    "\n",
    "for i in range(100, 1000):\n",
    "    for j in range(100,1000):\n",
    "        if is_palindrome(i*j):\n",
    "            answer.append(i*j)\n",
    "\n",
    "print(max(answer))\n"
   ]
  }
 ],
 "metadata": {
  "kernelspec": {
   "display_name": "base",
   "language": "python",
   "name": "python3"
  },
  "language_info": {
   "codemirror_mode": {
    "name": "ipython",
    "version": 3
   },
   "file_extension": ".py",
   "mimetype": "text/x-python",
   "name": "python",
   "nbconvert_exporter": "python",
   "pygments_lexer": "ipython3",
   "version": "3.11.5"
  }
 },
 "nbformat": 4,
 "nbformat_minor": 2
}

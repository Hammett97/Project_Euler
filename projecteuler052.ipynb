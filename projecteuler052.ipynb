{
 "cells": [
  {
   "cell_type": "markdown",
   "metadata": {},
   "source": [
    "### Problem 52: Permuted Multiples"
   ]
  },
  {
   "cell_type": "code",
   "execution_count": 36,
   "metadata": {},
   "outputs": [
    {
     "name": "stdout",
     "output_type": "stream",
     "text": [
      "142857\n"
     ]
    }
   ],
   "source": [
    "def digits(n):\n",
    "    digits = set([])\n",
    "    for i in str(n):\n",
    "        digits.add(int(i))\n",
    "    return digits\n",
    "\n",
    "\n",
    "n = 1\n",
    "while True:\n",
    "    if (digits(n) == digits(2*n) == digits(3*n) == digits(4*n) == digits(5*n) == digits(6*n)):\n",
    "        print(n)\n",
    "        break\n",
    "    n = n+1\n"
   ]
  }
 ],
 "metadata": {
  "kernelspec": {
   "display_name": "chemprop",
   "language": "python",
   "name": "python3"
  },
  "language_info": {
   "codemirror_mode": {
    "name": "ipython",
    "version": 3
   },
   "file_extension": ".py",
   "mimetype": "text/x-python",
   "name": "python",
   "nbconvert_exporter": "python",
   "pygments_lexer": "ipython3",
   "version": "3.8.18"
  }
 },
 "nbformat": 4,
 "nbformat_minor": 2
}

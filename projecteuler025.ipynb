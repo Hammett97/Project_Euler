{
 "cells": [
  {
   "cell_type": "markdown",
   "metadata": {},
   "source": [
    "### Problem 25: 1000-digit Fibonacci Number"
   ]
  },
  {
   "cell_type": "code",
   "execution_count": 40,
   "metadata": {},
   "outputs": [
    {
     "name": "stdout",
     "output_type": "stream",
     "text": [
      "4782\n"
     ]
    }
   ],
   "source": [
    "def fibonacci_number(n):\n",
    "    first_number = 1\n",
    "    second_number = 1\n",
    "    fibonacci = 0\n",
    "    for i in range(2,n):\n",
    "        fibonacci = first_number + second_number\n",
    "        first_number = second_number\n",
    "        second_number = fibonacci\n",
    "\n",
    "    return fibonacci\n",
    "\n",
    "\n",
    "i = 2\n",
    "while True:\n",
    "    if len(str(fibonacci_number(i))) == 1000:\n",
    "        print(i)\n",
    "        break\n",
    "    i = i+1\n"
   ]
  }
 ],
 "metadata": {
  "kernelspec": {
   "display_name": "chemprop",
   "language": "python",
   "name": "python3"
  },
  "language_info": {
   "codemirror_mode": {
    "name": "ipython",
    "version": 3
   },
   "file_extension": ".py",
   "mimetype": "text/x-python",
   "name": "python",
   "nbconvert_exporter": "python",
   "pygments_lexer": "ipython3",
   "version": "3.8.18"
  }
 },
 "nbformat": 4,
 "nbformat_minor": 2
}

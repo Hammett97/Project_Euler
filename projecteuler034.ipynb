{
 "cells": [
  {
   "cell_type": "markdown",
   "metadata": {},
   "source": [
    "### Problem 34: Digit Factorials"
   ]
  },
  {
   "cell_type": "code",
   "execution_count": 38,
   "metadata": {},
   "outputs": [
    {
     "data": {
      "text/plain": [
       "40730"
      ]
     },
     "execution_count": 38,
     "metadata": {},
     "output_type": "execute_result"
    }
   ],
   "source": [
    "def factorial(n):\n",
    "    result = 1\n",
    "    for i in range(2, n+1):\n",
    "        result = result * i\n",
    "    return result\n",
    "\n",
    "def func(number):\n",
    "    is_valid = False\n",
    "    sum_factorials = 0\n",
    "    for digit in str(number):\n",
    "        sum_factorials = sum_factorials + factorial(int(digit))\n",
    "    if sum_factorials == number:\n",
    "        is_valid = True\n",
    "    return is_valid\n",
    "\n",
    "\n",
    "result = 0\n",
    "\n",
    "for number in range(10, 9999999): # 9999999 is an easy upper limit\n",
    "    if func(number):\n",
    "        result = result + number\n",
    "\n",
    "result"
   ]
  }
 ],
 "metadata": {
  "kernelspec": {
   "display_name": "chemprop",
   "language": "python",
   "name": "python3"
  },
  "language_info": {
   "codemirror_mode": {
    "name": "ipython",
    "version": 3
   },
   "file_extension": ".py",
   "mimetype": "text/x-python",
   "name": "python",
   "nbconvert_exporter": "python",
   "pygments_lexer": "ipython3",
   "version": "3.8.18"
  }
 },
 "nbformat": 4,
 "nbformat_minor": 2
}

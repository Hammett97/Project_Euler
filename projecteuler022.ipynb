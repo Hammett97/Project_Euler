{
 "cells": [
  {
   "cell_type": "markdown",
   "metadata": {},
   "source": [
    "### Problem 22: Names Scores"
   ]
  },
  {
   "cell_type": "code",
   "execution_count": 85,
   "metadata": {},
   "outputs": [],
   "source": [
    "def name_score(name):\n",
    "    sum = 0\n",
    "    for letter in name:\n",
    "        sum = sum + (ord(letter)-64)\n",
    "    return sum"
   ]
  },
  {
   "cell_type": "code",
   "execution_count": 86,
   "metadata": {},
   "outputs": [
    {
     "data": {
      "text/plain": [
       "871198282"
      ]
     },
     "execution_count": 86,
     "metadata": {},
     "output_type": "execute_result"
    }
   ],
   "source": [
    "with open('/Users/mohammadhemmati/Desktop/0022_names.txt', 'r') as file:\n",
    "    content = file.read()\n",
    "\n",
    "content = content.split(sep=',')\n",
    "\n",
    "for i in range(len(content)):\n",
    "    content[i] = content[i][1:-1]\n",
    "\n",
    "content.sort()\n",
    "\n",
    "\n",
    "total_sum = 0\n",
    "for i in range(len(content)):\n",
    "    total_sum = total_sum + ((i+1) * name_score(content[i]))\n",
    "\n",
    "total_sum"
   ]
  }
 ],
 "metadata": {
  "kernelspec": {
   "display_name": "chemprop",
   "language": "python",
   "name": "python3"
  },
  "language_info": {
   "codemirror_mode": {
    "name": "ipython",
    "version": 3
   },
   "file_extension": ".py",
   "mimetype": "text/x-python",
   "name": "python",
   "nbconvert_exporter": "python",
   "pygments_lexer": "ipython3",
   "version": "3.8.18"
  }
 },
 "nbformat": 4,
 "nbformat_minor": 2
}
